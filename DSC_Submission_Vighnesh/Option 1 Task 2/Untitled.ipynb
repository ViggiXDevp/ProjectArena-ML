{
 "cells": [
  {
   "cell_type": "code",
   "execution_count": 1,
   "id": "e66055d3-7f93-48ca-bebf-2792f9dfff50",
   "metadata": {},
   "outputs": [],
   "source": [
    "import numpy as np \n",
    "import pandas as pd"
   ]
  },
  {
   "cell_type": "code",
   "execution_count": 2,
   "id": "3a4ff688-6ef7-4a39-8179-1f0cb40bc5e6",
   "metadata": {},
   "outputs": [],
   "source": [
    "df = pd.read_csv(\"data.csv\")"
   ]
  },
  {
   "cell_type": "code",
   "execution_count": 3,
   "id": "e0c38310-545b-40f6-914b-933ff3038170",
   "metadata": {},
   "outputs": [
    {
     "data": {
      "text/html": [
       "<div>\n",
       "<style scoped>\n",
       "    .dataframe tbody tr th:only-of-type {\n",
       "        vertical-align: middle;\n",
       "    }\n",
       "\n",
       "    .dataframe tbody tr th {\n",
       "        vertical-align: top;\n",
       "    }\n",
       "\n",
       "    .dataframe thead th {\n",
       "        text-align: right;\n",
       "    }\n",
       "</style>\n",
       "<table border=\"1\" class=\"dataframe\">\n",
       "  <thead>\n",
       "    <tr style=\"text-align: right;\">\n",
       "      <th></th>\n",
       "      <th>Report Number</th>\n",
       "      <th>Date Reported</th>\n",
       "      <th>Date of Occurrence</th>\n",
       "      <th>Time of Occurrence</th>\n",
       "      <th>City</th>\n",
       "      <th>Crime Code</th>\n",
       "      <th>Crime Description</th>\n",
       "      <th>Victim Age</th>\n",
       "      <th>Victim Gender</th>\n",
       "      <th>Weapon Used</th>\n",
       "      <th>Crime Domain</th>\n",
       "      <th>Police Deployed</th>\n",
       "      <th>Case Closed</th>\n",
       "      <th>Date Case Closed</th>\n",
       "    </tr>\n",
       "  </thead>\n",
       "  <tbody>\n",
       "    <tr>\n",
       "      <th>0</th>\n",
       "      <td>1</td>\n",
       "      <td>02-01-2020 00:00</td>\n",
       "      <td>01-01-2020 00:00</td>\n",
       "      <td>01-01-2020 01:11</td>\n",
       "      <td>Ahmedabad</td>\n",
       "      <td>576</td>\n",
       "      <td>IDENTITY THEFT</td>\n",
       "      <td>16</td>\n",
       "      <td>M</td>\n",
       "      <td>Blunt Object</td>\n",
       "      <td>Violent Crime</td>\n",
       "      <td>13</td>\n",
       "      <td>No</td>\n",
       "      <td>NaN</td>\n",
       "    </tr>\n",
       "    <tr>\n",
       "      <th>1</th>\n",
       "      <td>2</td>\n",
       "      <td>01-01-2020 19:00</td>\n",
       "      <td>01-01-2020 01:00</td>\n",
       "      <td>01-01-2020 06:26</td>\n",
       "      <td>Chennai</td>\n",
       "      <td>128</td>\n",
       "      <td>HOMICIDE</td>\n",
       "      <td>37</td>\n",
       "      <td>M</td>\n",
       "      <td>Poison</td>\n",
       "      <td>Other Crime</td>\n",
       "      <td>9</td>\n",
       "      <td>No</td>\n",
       "      <td>NaN</td>\n",
       "    </tr>\n",
       "    <tr>\n",
       "      <th>2</th>\n",
       "      <td>3</td>\n",
       "      <td>02-01-2020 05:00</td>\n",
       "      <td>01-01-2020 02:00</td>\n",
       "      <td>01-01-2020 14:30</td>\n",
       "      <td>Ludhiana</td>\n",
       "      <td>271</td>\n",
       "      <td>KIDNAPPING</td>\n",
       "      <td>48</td>\n",
       "      <td>F</td>\n",
       "      <td>Blunt Object</td>\n",
       "      <td>Other Crime</td>\n",
       "      <td>15</td>\n",
       "      <td>No</td>\n",
       "      <td>NaN</td>\n",
       "    </tr>\n",
       "    <tr>\n",
       "      <th>3</th>\n",
       "      <td>4</td>\n",
       "      <td>01-01-2020 05:00</td>\n",
       "      <td>01-01-2020 03:00</td>\n",
       "      <td>01-01-2020 14:46</td>\n",
       "      <td>Pune</td>\n",
       "      <td>170</td>\n",
       "      <td>BURGLARY</td>\n",
       "      <td>49</td>\n",
       "      <td>F</td>\n",
       "      <td>Firearm</td>\n",
       "      <td>Other Crime</td>\n",
       "      <td>1</td>\n",
       "      <td>Yes</td>\n",
       "      <td>29-04-2020 05:00</td>\n",
       "    </tr>\n",
       "    <tr>\n",
       "      <th>4</th>\n",
       "      <td>5</td>\n",
       "      <td>01-01-2020 21:00</td>\n",
       "      <td>01-01-2020 04:00</td>\n",
       "      <td>01-01-2020 16:51</td>\n",
       "      <td>Pune</td>\n",
       "      <td>421</td>\n",
       "      <td>VANDALISM</td>\n",
       "      <td>30</td>\n",
       "      <td>F</td>\n",
       "      <td>Other</td>\n",
       "      <td>Other Crime</td>\n",
       "      <td>18</td>\n",
       "      <td>Yes</td>\n",
       "      <td>08-01-2020 21:00</td>\n",
       "    </tr>\n",
       "  </tbody>\n",
       "</table>\n",
       "</div>"
      ],
      "text/plain": [
       "   Report Number     Date Reported Date of Occurrence Time of Occurrence  \\\n",
       "0              1  02-01-2020 00:00   01-01-2020 00:00   01-01-2020 01:11   \n",
       "1              2  01-01-2020 19:00   01-01-2020 01:00   01-01-2020 06:26   \n",
       "2              3  02-01-2020 05:00   01-01-2020 02:00   01-01-2020 14:30   \n",
       "3              4  01-01-2020 05:00   01-01-2020 03:00   01-01-2020 14:46   \n",
       "4              5  01-01-2020 21:00   01-01-2020 04:00   01-01-2020 16:51   \n",
       "\n",
       "        City  Crime Code Crime Description  Victim Age Victim Gender  \\\n",
       "0  Ahmedabad         576    IDENTITY THEFT          16             M   \n",
       "1    Chennai         128          HOMICIDE          37             M   \n",
       "2   Ludhiana         271        KIDNAPPING          48             F   \n",
       "3       Pune         170          BURGLARY          49             F   \n",
       "4       Pune         421         VANDALISM          30             F   \n",
       "\n",
       "    Weapon Used   Crime Domain  Police Deployed Case Closed  Date Case Closed  \n",
       "0  Blunt Object  Violent Crime               13          No               NaN  \n",
       "1        Poison    Other Crime                9          No               NaN  \n",
       "2  Blunt Object    Other Crime               15          No               NaN  \n",
       "3       Firearm    Other Crime                1         Yes  29-04-2020 05:00  \n",
       "4         Other    Other Crime               18         Yes  08-01-2020 21:00  "
      ]
     },
     "execution_count": 3,
     "metadata": {},
     "output_type": "execute_result"
    }
   ],
   "source": [
    "df.head()"
   ]
  },
  {
   "cell_type": "code",
   "execution_count": 4,
   "id": "f01bdb04-aeef-433c-a2cd-0d24fc2c93da",
   "metadata": {},
   "outputs": [
    {
     "data": {
      "text/plain": [
       "Report Number             0\n",
       "Date Reported             0\n",
       "Date of Occurrence        0\n",
       "Time of Occurrence        0\n",
       "City                      0\n",
       "Crime Code                0\n",
       "Crime Description         0\n",
       "Victim Age                0\n",
       "Victim Gender             0\n",
       "Weapon Used            5790\n",
       "Crime Domain              0\n",
       "Police Deployed           0\n",
       "Case Closed               0\n",
       "Date Case Closed      20098\n",
       "dtype: int64"
      ]
     },
     "execution_count": 4,
     "metadata": {},
     "output_type": "execute_result"
    }
   ],
   "source": [
    "df.isnull().sum()"
   ]
  },
  {
   "cell_type": "code",
   "execution_count": 5,
   "id": "4c59a642-0acb-4de2-92a4-d8fa87c79962",
   "metadata": {},
   "outputs": [],
   "source": [
    "df['Weapon Used'] = df['Weapon Used'].fillna(\"\")"
   ]
  },
  {
   "cell_type": "code",
   "execution_count": 10,
   "id": "1af9950e-7fca-4651-be25-3b4a372adf9c",
   "metadata": {},
   "outputs": [
    {
     "data": {
      "text/plain": [
       "Report Number             0\n",
       "Date Reported             0\n",
       "Date of Occurrence        0\n",
       "Time of Occurrence        0\n",
       "City                      0\n",
       "Crime Code                0\n",
       "Crime Description         0\n",
       "Victim Age                0\n",
       "Victim Gender             0\n",
       "Weapon Used               0\n",
       "Crime Domain              0\n",
       "Police Deployed           0\n",
       "Case Closed               0\n",
       "Date Case Closed      20098\n",
       "dtype: int64"
      ]
     },
     "execution_count": 10,
     "metadata": {},
     "output_type": "execute_result"
    }
   ],
   "source": [
    "df.isnull().sum()"
   ]
  },
  {
   "cell_type": "code",
   "execution_count": 11,
   "id": "60406dd2-25eb-4406-880b-43b959a4d1bf",
   "metadata": {},
   "outputs": [],
   "source": [
    "df['Date Case Closed'] = df['Date Case Closed'].fillna(\"\")"
   ]
  },
  {
   "cell_type": "code",
   "execution_count": 12,
   "id": "9f4f9bf8-6c08-4eb5-92ad-ecffb3037b6f",
   "metadata": {},
   "outputs": [
    {
     "data": {
      "text/plain": [
       "Report Number         0\n",
       "Date Reported         0\n",
       "Date of Occurrence    0\n",
       "Time of Occurrence    0\n",
       "City                  0\n",
       "Crime Code            0\n",
       "Crime Description     0\n",
       "Victim Age            0\n",
       "Victim Gender         0\n",
       "Weapon Used           0\n",
       "Crime Domain          0\n",
       "Police Deployed       0\n",
       "Case Closed           0\n",
       "Date Case Closed      0\n",
       "dtype: int64"
      ]
     },
     "execution_count": 12,
     "metadata": {},
     "output_type": "execute_result"
    }
   ],
   "source": [
    "df.isnull().sum()"
   ]
  },
  {
   "cell_type": "code",
   "execution_count": null,
   "id": "a2a2857e-5b29-4bcf-bfab-aba26d73275c",
   "metadata": {},
   "outputs": [],
   "source": []
  }
 ],
 "metadata": {
  "kernelspec": {
   "display_name": "Python 3 (ipykernel)",
   "language": "python",
   "name": "python3"
  },
  "language_info": {
   "codemirror_mode": {
    "name": "ipython",
    "version": 3
   },
   "file_extension": ".py",
   "mimetype": "text/x-python",
   "name": "python",
   "nbconvert_exporter": "python",
   "pygments_lexer": "ipython3",
   "version": "3.12.2"
  }
 },
 "nbformat": 4,
 "nbformat_minor": 5
}
